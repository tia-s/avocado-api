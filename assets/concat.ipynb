{
 "cells": [
  {
   "cell_type": "markdown",
   "metadata": {},
   "source": [
    "**Script for Concatenating Apache JMeter Test Results**\n",
    "\n",
    "The following Python code was used to concatenate the results outputted by Apache JMeter. \n",
    "\n",
    "*NB: This script was not part of the main project but was employed solely for the purpose of efficiently gathering and organizing the test results from our JMeter performance tests.*"
   ]
  },
  {
   "cell_type": "code",
   "execution_count": 4,
   "metadata": {},
   "outputs": [],
   "source": [
    "import json\n",
    "import pandas as pd"
   ]
  },
  {
   "cell_type": "code",
   "execution_count": 5,
   "metadata": {},
   "outputs": [
    {
     "data": {
      "text/html": [
       "<div>\n",
       "<style scoped>\n",
       "    .dataframe tbody tr th:only-of-type {\n",
       "        vertical-align: middle;\n",
       "    }\n",
       "\n",
       "    .dataframe tbody tr th {\n",
       "        vertical-align: top;\n",
       "    }\n",
       "\n",
       "    .dataframe thead th {\n",
       "        text-align: right;\n",
       "    }\n",
       "</style>\n",
       "<table border=\"1\" class=\"dataframe\">\n",
       "  <thead>\n",
       "    <tr style=\"text-align: right;\">\n",
       "      <th></th>\n",
       "      <th>REST Mean Response</th>\n",
       "      <th>SOAP Mean Response</th>\n",
       "      <th>GraphQL Mean Response</th>\n",
       "      <th>REST Mean Throughput</th>\n",
       "      <th>SOAP Mean Throughput</th>\n",
       "      <th>GraphQL Mean Throughput</th>\n",
       "    </tr>\n",
       "  </thead>\n",
       "  <tbody>\n",
       "    <tr>\n",
       "      <th>Mean Values</th>\n",
       "      <td>14118.738864</td>\n",
       "      <td>17208.91019</td>\n",
       "      <td>15895.107065</td>\n",
       "      <td>0.400215</td>\n",
       "      <td>0.330517</td>\n",
       "      <td>0.354925</td>\n",
       "    </tr>\n",
       "  </tbody>\n",
       "</table>\n",
       "</div>"
      ],
      "text/plain": [
       "             REST Mean Response  SOAP Mean Response  GraphQL Mean Response  \\\n",
       "Mean Values        14118.738864         17208.91019           15895.107065   \n",
       "\n",
       "             REST Mean Throughput  SOAP Mean Throughput  \\\n",
       "Mean Values              0.400215              0.330517   \n",
       "\n",
       "             GraphQL Mean Throughput  \n",
       "Mean Values                 0.354925  "
      ]
     },
     "execution_count": 5,
     "metadata": {},
     "output_type": "execute_result"
    }
   ],
   "source": [
    "soap_sum_res_time = 0\n",
    "soap_sum_throughput = 0\n",
    "soap_count = 0\n",
    "\n",
    "graphql_sum_res_time = 0\n",
    "graphql_sum_throughput = 0\n",
    "graphql_count = 0\n",
    "\n",
    "rest_sum_res_time = 0\n",
    "rest_sum_throughput = 0\n",
    "rest_count = 0\n",
    "\n",
    "with open(\"res.json\", \"r\") as file:\n",
    "    data = json.load(file)\n",
    "    for key in data:\n",
    "        if \"SOAP\" in key:\n",
    "            soap_count += 1\n",
    "            soap_sum_res_time += data[key][\"meanResTime\"]\n",
    "            soap_sum_throughput += data[key][\"throughput\"]\n",
    "        if \"GraphQL\" in key:\n",
    "            graphql_count += 1\n",
    "            graphql_sum_res_time += data[key][\"meanResTime\"]\n",
    "            graphql_sum_throughput += data[key][\"throughput\"]\n",
    "        if \"REST\" in key:\n",
    "            rest_count += 1\n",
    "            rest_sum_res_time += data[key][\"meanResTime\"]\n",
    "            rest_sum_throughput += data[key][\"throughput\"]\n",
    "    \n",
    "    soap_mean_res_time = soap_sum_res_time/soap_count\n",
    "    soap_mean_throughput = soap_sum_throughput/soap_count\n",
    "\n",
    "    graphql_mean_res_time = graphql_sum_res_time/graphql_count\n",
    "    graphql_mean_throughput = graphql_sum_throughput/graphql_count\n",
    "    \n",
    "    rest_mean_res_time = rest_sum_res_time/rest_count\n",
    "    rest_mean_throughput = rest_sum_throughput/rest_count\n",
    "\n",
    "df = pd.DataFrame({\n",
    "    \"REST Mean Response\": [rest_mean_res_time], \n",
    "    \"SOAP Mean Response\": [soap_mean_res_time], \n",
    "    \"GraphQL Mean Response\": [graphql_mean_res_time],\n",
    "    \"REST Mean Throughput\": [rest_mean_throughput],\n",
    "    \"SOAP Mean Throughput\": [soap_mean_throughput], \n",
    "    \"GraphQL Mean Throughput\": [graphql_mean_throughput]\n",
    "}, index=[\"Mean Values\"])\n",
    "\n",
    "df"
   ]
  },
  {
   "cell_type": "code",
   "execution_count": 6,
   "metadata": {},
   "outputs": [
    {
     "data": {
      "text/plain": [
       "api_type\n",
       "GraphQL     5385.010000\n",
       "REST        3532.406000\n",
       "SOAP        4402.944500\n",
       "Unknown    35520.961333\n",
       "Name: Latency, dtype: float64"
      ]
     },
     "execution_count": 6,
     "metadata": {},
     "output_type": "execute_result"
    }
   ],
   "source": [
    "df = pd.read_csv(\"res.csv\")\n",
    "df['api_type'] = df['label'].apply(lambda x: 'REST' if 'REST' in x else \n",
    "                                   ('SOAP' if 'SOAP' in x else \n",
    "                                    ('GraphQL' if 'GraphQL' in x  else 'Unknown')))\n",
    "average_latency = df.groupby('api_type')['Latency'].mean()\n",
    "\n",
    "df_errors = df[(df['responseCode'].astype(str).str.startswith('5')) | (df['responseCode'].astype(str).str.startswith('4')) | (~df['failureMessage'].isna())]\n",
    "df_errors\n",
    "api_type_counts = df.groupby('api_type').size()\n",
    "api_type_error_counts = df_errors.groupby('api_type').size()\n",
    "\n",
    "# df = pd.DataFrame({\n",
    "#     # \"GraphQL Error Rate %\": [(api_type_error_counts.loc['GraphQL']/api_type_counts.loc['GraphQL'])*100], \n",
    "#     \"SOAP Error Rate %\": [(api_type_error_counts.loc['SOAP']/api_type_counts.loc['SOAP'])*100], \n",
    "#     \"REST Error Rate %\": [(api_type_error_counts.loc['REST']/api_type_counts.loc['REST'])*100]\n",
    "# }, index=[\"Error Rates\"])\n",
    "# api_type_error_counts\n",
    "# api_type_error_counts\n",
    "average_latency\n"
   ]
  }
 ],
 "metadata": {
  "kernelspec": {
   "display_name": "Python 3",
   "language": "python",
   "name": "python3"
  },
  "language_info": {
   "codemirror_mode": {
    "name": "ipython",
    "version": 3
   },
   "file_extension": ".py",
   "mimetype": "text/x-python",
   "name": "python",
   "nbconvert_exporter": "python",
   "pygments_lexer": "ipython3",
   "version": "3.12.2"
  }
 },
 "nbformat": 4,
 "nbformat_minor": 2
}
